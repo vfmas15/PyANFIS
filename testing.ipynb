{
 "cells": [
  {
   "cell_type": "code",
   "execution_count": 21,
   "metadata": {},
   "outputs": [],
   "source": [
    "import torch"
   ]
  },
  {
   "cell_type": "code",
   "execution_count": 26,
   "metadata": {},
   "outputs": [],
   "source": [
    "class GaussFunction(torch.nn.Module):\n",
    "  def __init__(self, mean, std):\n",
    "    super(GaussFunction, self).__init__()\n",
    "\n",
    "    self.mean = mean\n",
    "    self.std = std\n",
    "\n",
    "  def forward(self, x):\n",
    "    mean = self.mean\n",
    "    std = self.std\n",
    "    \n",
    "    mean = - mean\n",
    "    x = x + mean\n",
    "    x = x ** 2\n",
    "    x = - x\n",
    "\n",
    "    std = std ** 2\n",
    "    std = 2 * std\n",
    "    std = 1 / std\n",
    "    x = x * std\n",
    "    x = torch.exp(x)\n",
    "    return x"
   ]
  },
  {
   "cell_type": "code",
   "execution_count": null,
   "metadata": {},
   "outputs": [],
   "source": [
    "class Universes(torch.nn.Module):\n",
    "  def __init__(self, universe):\n",
    "    super(Universes, self).__init__()\n",
    "    self.universe = universe\n",
    "\n",
    "\n",
    "  def forward(self, x):\n",
    "    for batch in  self.universe:\n",
    "      for function in batch:\n",
    "        function(x)\n",
    "    return self.universe.apply_(x)"
   ]
  },
  {
   "cell_type": "code",
   "execution_count": 30,
   "metadata": {},
   "outputs": [],
   "source": [
    "mean = torch.tensor([1.], requires_grad=True)\n",
    "std = torch.tensor([0.5], requires_grad=True)\n",
    "gauss = GaussFunction(mean, std)"
   ]
  },
  {
   "cell_type": "code",
   "execution_count": 36,
   "metadata": {},
   "outputs": [],
   "source": [
    "num = torch.rand(1,1)\n",
    "x = gauss(num)\n",
    "q = x\n",
    "q.retain_grad()\n",
    "#q.retain_grad()\n",
    "# Compute the derivatives\n",
    "#q.backward(torch.tensor([[[1., 1., 0.], [1., 0., 1.], [1., 0., 1.]], [[1., 1., 0.], [1., 0., 1.], [1., 0., 1.]]]))\n",
    "q.backward(torch.ones(1,1))"
   ]
  },
  {
   "cell_type": "code",
   "execution_count": 45,
   "metadata": {},
   "outputs": [
    {
     "name": "stdout",
     "output_type": "stream",
     "text": [
      "Input is:  0.22313910722732544\n",
      "q is:  0.2990855574607849\n",
      "Gradient of x is: 1.0\n"
     ]
    }
   ],
   "source": [
    "print(\"Input is: \",num.item())\n",
    "print(\"q is: \",q.item())\n",
    "print(\"Gradient of x is: \" + str(x.grad.item()))"
   ]
  }
 ],
 "metadata": {
  "kernelspec": {
   "display_name": "Python 3",
   "language": "python",
   "name": "python3"
  },
  "language_info": {
   "codemirror_mode": {
    "name": "ipython",
    "version": 3
   },
   "file_extension": ".py",
   "mimetype": "text/x-python",
   "name": "python",
   "nbconvert_exporter": "python",
   "pygments_lexer": "ipython3",
   "version": "3.10.5"
  },
  "orig_nbformat": 4,
  "vscode": {
   "interpreter": {
    "hash": "d1064ca804cc281d7bf24ae43d20b5ce3c6982de21aefaa18b6d3df22293941c"
   }
  }
 },
 "nbformat": 4,
 "nbformat_minor": 2
}
